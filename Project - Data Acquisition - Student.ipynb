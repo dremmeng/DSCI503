{
 "cells": [
  {
   "cell_type": "markdown",
   "metadata": {},
   "source": [
    "# Project: Data Acquisition\n",
    "## Name:\n",
    "This Jupyter Notebook Starter File provides a basic outline for your solutions. For detailed instructions, please refer to the assignment on Canvas. Complete all your work for this project in this same Jupyter Notebook file, which you will submit:\n",
    "- Code:\n",
    "  - Insert your code where you see #Insert Code Here.\n",
    "  - Ensure all code is well-commented and easy to understand.\n",
    "  - Use clear and descriptive variable names.\n",
    "- Questions:\n",
    "  - Provide your answers to the guided questions in the same markdown cell as the questions.\n",
    "  - Demonstrate a deep understanding of the concepts through thorough explanations and critical thinking."
   ]
  },
  {
   "cell_type": "code",
   "execution_count": 67,
   "metadata": {
    "executionInfo": {
     "elapsed": 168,
     "status": "ok",
     "timestamp": 1721516365834,
     "user": {
      "displayName": "Morgan Cox",
      "userId": "07934651255895897042"
     },
     "user_tz": 360
    },
    "id": "0c4eM5CQ5ltq"
   },
   "outputs": [],
   "source": [
    "#Some recommended libraries\n",
    "import pandas as pd\n",
    "import sqlite3\n",
    "import requests\n",
    "import os"
   ]
  },
  {
   "cell_type": "markdown",
   "metadata": {
    "id": "CGQqxDFc40zr"
   },
   "source": [
    "# Part 1: Structured Data"
   ]
  },
  {
   "cell_type": "markdown",
   "metadata": {
    "id": "WYsqv4Lu5HE5"
   },
   "source": [
    "## Files"
   ]
  },
  {
   "cell_type": "markdown",
   "metadata": {
    "id": "MoBHJ_Xq5KXe"
   },
   "source": [
    "### CSV\n",
    "Steps:\n",
    "1. Load csv data from the provided data URL\n",
    "2. Print the dataframe's first few elements using the `.head()` command to see what data you have\n",
    "3. Complete the remaining tasks outlined in Canvas \n",
    "4. Answer the questions"
   ]
  },
  {
   "cell_type": "code",
   "execution_count": 68,
   "metadata": {},
   "outputs": [],
   "source": [
    "#Insert Code Here"
   ]
  },
  {
   "cell_type": "markdown",
   "metadata": {
    "id": "5vb_P-VJKnuH"
   },
   "source": [
    "#### CSV Questions\n",
    "\n",
    "1. Please explain the difference between using .tail() and .head(), when might you use one over the other?\n",
    "2. Please explain the difference between using inplace and not, what is the impact?\n",
    "3. In relation to the above, what is an important consideration when working with Pandas?"
   ]
  },
  {
   "cell_type": "markdown",
   "metadata": {
    "id": "nsOWt2Jl5LW_"
   },
   "source": [
    "### Text (TXT)\n",
    "Steps:\n",
    "1. Load the employees.txt file in using a pandas dataframe\n",
    "2. Print the dataframe's first few elements using the `.head()` command to see what data you have\n",
    "3. Complete the remaining tasks outlined in Canvas \n",
    "4. Answer the questions"
   ]
  },
  {
   "cell_type": "code",
   "execution_count": 69,
   "metadata": {
    "colab": {
     "base_uri": "https://localhost:8080/"
    },
    "executionInfo": {
     "elapsed": 151,
     "status": "ok",
     "timestamp": 1721512522613,
     "user": {
      "displayName": "Morgan Cox",
      "userId": "07934651255895897042"
     },
     "user_tz": 360
    },
    "id": "kYxwdKapIchC",
    "outputId": "646b9d82-16f1-4dd4-c2cb-c14e4462f633"
   },
   "outputs": [],
   "source": [
    "#Insert Code Here"
   ]
  },
  {
   "cell_type": "markdown",
   "metadata": {
    "id": "NydnpjtlLb42"
   },
   "source": [
    "#### Text Questions\n",
    "1. How many entries and columns are there in the dataset?\n",
    "2. What is the average age and average salary of the employees in the dataset?\n",
    "3. Which occupation has the highest number of employees?\n",
    "4. What is the average salary for each occupation, and which occupation has the highest average salary?\n",
    "5. Please explain the difference between using .info() and .describe(), when might you use one over the other?\n",
    "6. Please explain the significance of value_counts(), and how it might be used in data analysis?\n",
    "7. In relation to the above, what is an important consideration when grouping data using groupby() in Pandas?"
   ]
  },
  {
   "cell_type": "markdown",
   "metadata": {},
   "source": [
    "### JSON\n",
    "Steps:\n",
    "1. Load the movies.json file using pandas\n",
    "2. Print the dataframe's first few elements using the `.head()` command to see what data you have\n",
    "3. Complete the remaining tasks outlined in Canvas \n",
    "4. Answer the questions"
   ]
  },
  {
   "cell_type": "code",
   "execution_count": 70,
   "metadata": {
    "id": "QmeIdLfLOmHV"
   },
   "outputs": [],
   "source": [
    "#Insert Code Here"
   ]
  },
  {
   "cell_type": "markdown",
   "metadata": {
    "id": "NagFFh8VOniq"
   },
   "source": [
    "#### JSON Questions\n",
    "1. Are there any missing values in the dataset?\n",
    "2. What did you get in your random sample of the data?\n",
    "3. What is the purpose of taking a random sample of the DataFrame?"
   ]
  },
  {
   "cell_type": "markdown",
   "metadata": {
    "id": "YBgi4E7YOaOB"
   },
   "source": [
    "### Database(s)"
   ]
  },
  {
   "cell_type": "markdown",
   "metadata": {
    "id": "trao9qr-RhWb"
   },
   "source": [
    "### SQLITE (this piece is a step beyond what we discussed, it will be an OPTIONAL exercise - or you can try it)\n",
    "Steps:\n",
    "1. Load the SQLite database.\n",
    "   - Use read_sql() to load data from the database into a Pandas DataFrame.\n",
    "   - Database Schema:\n",
    "     - employees table:\n",
    "       - Contains information about employees.\n",
    "       - Columns: id, name, age, department, salary\n",
    "     - departments table:\n",
    "       - Contains information about departments.\n",
    "       - Columns: id, name\n",
    "2. Print the dataframe's first few elements using the `.head()` command to see what data you have\n",
    "3. Complete the remaining tasks outlined in Canvas \n",
    "4. Answer the questions"
   ]
  },
  {
   "cell_type": "code",
   "execution_count": 71,
   "metadata": {
    "colab": {
     "base_uri": "https://localhost:8080/"
    },
    "executionInfo": {
     "elapsed": 174,
     "status": "ok",
     "timestamp": 1721514312229,
     "user": {
      "displayName": "Morgan Cox",
      "userId": "07934651255895897042"
     },
     "user_tz": 360
    },
    "id": "0PPWP1c6PkoX",
    "outputId": "d4ced894-82a2-481e-d21f-9f99e32e31ef"
   },
   "outputs": [],
   "source": [
    "#Insert Code Here"
   ]
  },
  {
   "cell_type": "markdown",
   "metadata": {},
   "source": [
    "#### Database Questions\n",
    "1. Provide the number of unique departments\n",
    "2. Provide the average salary\n",
    "3. Provide the total number of employees\n",
    "4. Who are all the names of the employees in the engineering department?"
   ]
  },
  {
   "cell_type": "markdown",
   "metadata": {
    "id": "doep39W1OYJd"
   },
   "source": [
    "# Part 2: Unstructured Data"
   ]
  },
  {
   "cell_type": "markdown",
   "metadata": {
    "id": "yaQ4d0hEUeEA"
   },
   "source": [
    "## SpaceX API\n",
    "Steps:\n",
    "1. There will be some given code for the API URL and Connection.\n",
    "2. Print the dataframe's first few elements using the `.head()` command to see what data you have\n",
    "3. Complete the remaining tasks outlined in Canvas \n",
    "4. Answer the questions"
   ]
  },
  {
   "cell_type": "code",
   "execution_count": 72,
   "metadata": {
    "executionInfo": {
     "elapsed": 182,
     "status": "ok",
     "timestamp": 1721515517094,
     "user": {
      "displayName": "Morgan Cox",
      "userId": "07934651255895897042"
     },
     "user_tz": 360
    },
    "id": "-wW8CMuMUg-8"
   },
   "outputs": [],
   "source": [
    "# SpaceX API URL for past launches\n",
    "spacex_api_url = \"https://api.spacexdata.com/v4/launches/past\""
   ]
  },
  {
   "cell_type": "code",
   "execution_count": 73,
   "metadata": {
    "executionInfo": {
     "elapsed": 417,
     "status": "ok",
     "timestamp": 1721515522437,
     "user": {
      "displayName": "Morgan Cox",
      "userId": "07934651255895897042"
     },
     "user_tz": 360
    },
    "id": "v7vBRbcQUik4"
   },
   "outputs": [],
   "source": [
    "# Fetch data from the SpaceX API\n",
    "response = requests.get(spacex_api_url)\n",
    "launches_data = response.json()"
   ]
  },
  {
   "cell_type": "code",
   "execution_count": 74,
   "metadata": {
    "colab": {
     "base_uri": "https://localhost:8080/",
     "height": 548
    },
    "executionInfo": {
     "elapsed": 168,
     "status": "ok",
     "timestamp": 1721515553728,
     "user": {
      "displayName": "Morgan Cox",
      "userId": "07934651255895897042"
     },
     "user_tz": 360
    },
    "id": "Hk-hUfAJUpzN",
    "outputId": "56e1aa2b-f93f-4bcf-b6d1-94a441d86032"
   },
   "outputs": [],
   "source": [
    "# Load data into a Pandas DataFrame\n",
    "df_launches = pd.DataFrame(launches_data)"
   ]
  },
  {
   "cell_type": "code",
   "execution_count": 75,
   "metadata": {},
   "outputs": [],
   "source": [
    "#Insert Code Here"
   ]
  },
  {
   "cell_type": "markdown",
   "metadata": {
    "id": "MkTqQQCWW6gF"
   },
   "source": [
    "#### This is some additional sample code for you to use for the SpaceX API Task:\n",
    "\n",
    "- Count the number of launches per launch site <br>\n",
    "`launch_site_counts = df_launches['launchpad'].value_counts()`<br>\n",
    "`print(\"Number of Launches per Launch Site:\")`<br>\n",
    "`print(launch_site_counts)`<br>\n",
    "\n",
    "- Identify the most common launch site <br>\n",
    "`most_common_launch_site = launch_site_counts.idxmax()`<br>\n",
    "`print(\"Most Common Launch Site:\", most_common_launch_site)`<br>"
   ]
  },
  {
   "cell_type": "markdown",
   "metadata": {},
   "source": [
    "#### API Questions\n",
    "1. What year has the most launches and how many total?\n",
    "2. What is the most common launch site with how many launches?\n",
    "3. What is the most recent launch ID AND DATE (per the data)?"
   ]
  },
  {
   "cell_type": "markdown",
   "metadata": {},
   "source": [
    "## Reading a Directory of Files\n",
    "Steps:\n",
    "1. Since we did not cover this, the below code is given\n",
    "2. See if you can setup the directory and read the files\n",
    "3. As a stretch goal, modify the code and see if you can read other types of files\n",
    "4. Aswer the questions"
   ]
  },
  {
   "cell_type": "code",
   "execution_count": 76,
   "metadata": {},
   "outputs": [
    {
     "name": "stdout",
     "output_type": "stream",
     "text": [
      "Loaded Reviews:\n",
      "['I did not enjoy this movie. The storyline was boring and the acting was subpar.\\n\\n', 'An average film with some good moments. Not the best, but worth watching.\\n\\n', 'This movie was fantastic! The plot was engaging and the characters were well-developed.\\n\\n']\n"
     ]
    }
   ],
   "source": [
    "#Path to the folder containing the reviews\n",
    "reviews_path = 'reviews'\n",
    "\n",
    "#Load all text files from the folder\n",
    "reviews = []\n",
    "for filename in os.listdir(reviews_path):\n",
    "    if filename.endswith('.txt'):\n",
    "        with open(os.path.join(reviews_path, filename), 'r', encoding='utf-8') as file:\n",
    "            reviews.append(file.read())\n",
    "\n",
    "print(\"Loaded Reviews:\")\n",
    "print(reviews)"
   ]
  },
  {
   "cell_type": "markdown",
   "metadata": {},
   "source": [
    "#### Directory of Files Questions\n",
    "1. How does the loading of these files compare to the loading of structured data with pandas?\n",
    "2. Which do you prefer and why?"
   ]
  },
  {
   "cell_type": "code",
   "execution_count": null,
   "metadata": {},
   "outputs": [],
   "source": []
  }
 ],
 "metadata": {
  "colab": {
   "authorship_tag": "ABX9TyOqo5V/AA+VunBnWTFs6A+1",
   "collapsed_sections": [
    "CGQqxDFc40zr",
    "WYsqv4Lu5HE5",
    "MoBHJ_Xq5KXe",
    "nsOWt2Jl5LW_",
    "hoQVFfyY5M6H",
    "YBgi4E7YOaOB",
    "trao9qr-RhWb",
    "TFyrDD-dSOgi"
   ],
   "provenance": []
  },
  "kernelspec": {
   "display_name": "Python 3 (ipykernel)",
   "language": "python",
   "name": "python3"
  },
  "language_info": {
   "codemirror_mode": {
    "name": "ipython",
    "version": 3
   },
   "file_extension": ".py",
   "mimetype": "text/x-python",
   "name": "python",
   "nbconvert_exporter": "python",
   "pygments_lexer": "ipython3",
   "version": "3.9.18"
  }
 },
 "nbformat": 4,
 "nbformat_minor": 4
}
