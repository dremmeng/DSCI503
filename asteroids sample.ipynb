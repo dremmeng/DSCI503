{
 "cells": [
  {
   "cell_type": "markdown",
   "metadata": {},
   "source": [
    "Hello for this coding sample I'll be using python within the context of Jupyter Notebooks. For this sample I'll be analyzing, cleaning, and building machine learning programs using the nasa near earth asteroids data set.\n",
    "The first thing to do is import libraries. "
   ]
  },
  {
   "cell_type": "code",
   "execution_count": 1,
   "metadata": {},
   "outputs": [],
   "source": [
    "import requests\n",
    "import json\n",
    "import numpy as np\n",
    "import tensorflow\n",
    "import pandas as pd\n",
    "import matplotlib.pyplot as plt\n",
    "from scipy import stats\n",
    "from sklearn.model_selection import train_test_split\n",
    "from sklearn.preprocessing import StandardScaler\n",
    "from sklearn.linear_model import LogisticRegression\n",
    "from sklearn.metrics import classification_report, confusion_matrix\n",
    "import pickle\n",
    "import sqlite3"
   ]
  },
  {
   "cell_type": "markdown",
   "metadata": {},
   "source": [
    "Read in the xcel data."
   ]
  },
  {
   "cell_type": "code",
   "execution_count": 2,
   "metadata": {},
   "outputs": [],
   "source": [
    "df = pd.read_excel(\"Nasa Near-Earth Objects.xlsx\")"
   ]
  },
  {
   "cell_type": "markdown",
   "metadata": {},
   "source": [
    "Next we'll do some eda."
   ]
  },
  {
   "cell_type": "code",
   "execution_count": 3,
   "metadata": {},
   "outputs": [
    {
     "data": {
      "text/html": [
       "<div>\n",
       "<style scoped>\n",
       "    .dataframe tbody tr th:only-of-type {\n",
       "        vertical-align: middle;\n",
       "    }\n",
       "\n",
       "    .dataframe tbody tr th {\n",
       "        vertical-align: top;\n",
       "    }\n",
       "\n",
       "    .dataframe thead th {\n",
       "        text-align: right;\n",
       "    }\n",
       "</style>\n",
       "<table border=\"1\" class=\"dataframe\">\n",
       "  <thead>\n",
       "    <tr style=\"text-align: right;\">\n",
       "      <th></th>\n",
       "      <th>Unnamed: 0.1</th>\n",
       "      <th>Unnamed: 0</th>\n",
       "      <th>id</th>\n",
       "      <th>neo_reference_id</th>\n",
       "      <th>name</th>\n",
       "      <th>name_limited</th>\n",
       "      <th>designation</th>\n",
       "      <th>absolute_magnitude_h</th>\n",
       "      <th>is_potentially_hazardous_asteroid</th>\n",
       "      <th>is_sentry_object</th>\n",
       "      <th>kilometers_estimated_diameter_min</th>\n",
       "      <th>kilometers_estimated_diameter_max</th>\n",
       "      <th>orbit_id</th>\n",
       "      <th>orbit_class_type</th>\n",
       "      <th>perihelion_distance</th>\n",
       "      <th>aphelion_distance</th>\n",
       "      <th>first_observation_date</th>\n",
       "      <th>last_observation_date</th>\n",
       "      <th>orbit_class_description</th>\n",
       "    </tr>\n",
       "  </thead>\n",
       "  <tbody>\n",
       "    <tr>\n",
       "      <th>0</th>\n",
       "      <td>0</td>\n",
       "      <td>0</td>\n",
       "      <td>2001981</td>\n",
       "      <td>2001981</td>\n",
       "      <td>1981 Midas (1973 EA)</td>\n",
       "      <td>Midas</td>\n",
       "      <td>1981</td>\n",
       "      <td>15.22</td>\n",
       "      <td>True</td>\n",
       "      <td>False</td>\n",
       "      <td>2.401900</td>\n",
       "      <td>5.370812</td>\n",
       "      <td>229</td>\n",
       "      <td>APO</td>\n",
       "      <td>0.621512</td>\n",
       "      <td>2.931360</td>\n",
       "      <td>1973-03-06</td>\n",
       "      <td>2021-10-20</td>\n",
       "      <td>Near-Earth asteroid orbits which cross the Ear...</td>\n",
       "    </tr>\n",
       "    <tr>\n",
       "      <th>1</th>\n",
       "      <td>1</td>\n",
       "      <td>1</td>\n",
       "      <td>2002059</td>\n",
       "      <td>2002059</td>\n",
       "      <td>2059 Baboquivari (1963 UA)</td>\n",
       "      <td>Baboquivari</td>\n",
       "      <td>2059</td>\n",
       "      <td>15.97</td>\n",
       "      <td>False</td>\n",
       "      <td>False</td>\n",
       "      <td>1.700415</td>\n",
       "      <td>3.802244</td>\n",
       "      <td>268</td>\n",
       "      <td>AMO</td>\n",
       "      <td>1.238537</td>\n",
       "      <td>4.047945</td>\n",
       "      <td>1963-10-16</td>\n",
       "      <td>2021-04-15</td>\n",
       "      <td>Near-Earth asteroid orbits similar to that of ...</td>\n",
       "    </tr>\n",
       "    <tr>\n",
       "      <th>2</th>\n",
       "      <td>2</td>\n",
       "      <td>2</td>\n",
       "      <td>2002061</td>\n",
       "      <td>2002061</td>\n",
       "      <td>2061 Anza (1960 UA)</td>\n",
       "      <td>Anza</td>\n",
       "      <td>2061</td>\n",
       "      <td>16.36</td>\n",
       "      <td>False</td>\n",
       "      <td>False</td>\n",
       "      <td>1.420872</td>\n",
       "      <td>3.177167</td>\n",
       "      <td>180</td>\n",
       "      <td>AMO</td>\n",
       "      <td>1.050403</td>\n",
       "      <td>3.478155</td>\n",
       "      <td>1960-10-22</td>\n",
       "      <td>2021-06-12</td>\n",
       "      <td>Near-Earth asteroid orbits similar to that of ...</td>\n",
       "    </tr>\n",
       "    <tr>\n",
       "      <th>3</th>\n",
       "      <td>3</td>\n",
       "      <td>3</td>\n",
       "      <td>2002062</td>\n",
       "      <td>2002062</td>\n",
       "      <td>2062 Aten (1976 AA)</td>\n",
       "      <td>Aten</td>\n",
       "      <td>2062</td>\n",
       "      <td>17.10</td>\n",
       "      <td>False</td>\n",
       "      <td>False</td>\n",
       "      <td>1.010543</td>\n",
       "      <td>2.259644</td>\n",
       "      <td>149</td>\n",
       "      <td>ATE</td>\n",
       "      <td>0.790185</td>\n",
       "      <td>1.143633</td>\n",
       "      <td>1955-12-17</td>\n",
       "      <td>2019-11-10</td>\n",
       "      <td>Near-Earth asteroid orbits similar to that of ...</td>\n",
       "    </tr>\n",
       "    <tr>\n",
       "      <th>4</th>\n",
       "      <td>4</td>\n",
       "      <td>4</td>\n",
       "      <td>2002063</td>\n",
       "      <td>2002063</td>\n",
       "      <td>2063 Bacchus (1977 HB)</td>\n",
       "      <td>Bacchus</td>\n",
       "      <td>2063</td>\n",
       "      <td>17.28</td>\n",
       "      <td>False</td>\n",
       "      <td>False</td>\n",
       "      <td>0.930154</td>\n",
       "      <td>2.079888</td>\n",
       "      <td>143</td>\n",
       "      <td>APO</td>\n",
       "      <td>0.701397</td>\n",
       "      <td>1.454804</td>\n",
       "      <td>1977-04-24</td>\n",
       "      <td>2021-12-02</td>\n",
       "      <td>Near-Earth asteroid orbits which cross the Ear...</td>\n",
       "    </tr>\n",
       "  </tbody>\n",
       "</table>\n",
       "</div>"
      ],
      "text/plain": [
       "   Unnamed: 0.1  Unnamed: 0       id  neo_reference_id  \\\n",
       "0             0           0  2001981           2001981   \n",
       "1             1           1  2002059           2002059   \n",
       "2             2           2  2002061           2002061   \n",
       "3             3           3  2002062           2002062   \n",
       "4             4           4  2002063           2002063   \n",
       "\n",
       "                         name name_limited designation  absolute_magnitude_h  \\\n",
       "0        1981 Midas (1973 EA)        Midas        1981                 15.22   \n",
       "1  2059 Baboquivari (1963 UA)  Baboquivari        2059                 15.97   \n",
       "2         2061 Anza (1960 UA)         Anza        2061                 16.36   \n",
       "3         2062 Aten (1976 AA)         Aten        2062                 17.10   \n",
       "4      2063 Bacchus (1977 HB)      Bacchus        2063                 17.28   \n",
       "\n",
       "   is_potentially_hazardous_asteroid  is_sentry_object  \\\n",
       "0                               True             False   \n",
       "1                              False             False   \n",
       "2                              False             False   \n",
       "3                              False             False   \n",
       "4                              False             False   \n",
       "\n",
       "   kilometers_estimated_diameter_min  kilometers_estimated_diameter_max  \\\n",
       "0                           2.401900                           5.370812   \n",
       "1                           1.700415                           3.802244   \n",
       "2                           1.420872                           3.177167   \n",
       "3                           1.010543                           2.259644   \n",
       "4                           0.930154                           2.079888   \n",
       "\n",
       "  orbit_id orbit_class_type  perihelion_distance  aphelion_distance  \\\n",
       "0      229              APO             0.621512           2.931360   \n",
       "1      268              AMO             1.238537           4.047945   \n",
       "2      180              AMO             1.050403           3.478155   \n",
       "3      149              ATE             0.790185           1.143633   \n",
       "4      143              APO             0.701397           1.454804   \n",
       "\n",
       "  first_observation_date last_observation_date  \\\n",
       "0             1973-03-06            2021-10-20   \n",
       "1             1963-10-16            2021-04-15   \n",
       "2             1960-10-22            2021-06-12   \n",
       "3             1955-12-17            2019-11-10   \n",
       "4             1977-04-24            2021-12-02   \n",
       "\n",
       "                             orbit_class_description  \n",
       "0  Near-Earth asteroid orbits which cross the Ear...  \n",
       "1  Near-Earth asteroid orbits similar to that of ...  \n",
       "2  Near-Earth asteroid orbits similar to that of ...  \n",
       "3  Near-Earth asteroid orbits similar to that of ...  \n",
       "4  Near-Earth asteroid orbits which cross the Ear...  "
      ]
     },
     "execution_count": 3,
     "metadata": {},
     "output_type": "execute_result"
    }
   ],
   "source": [
    "df.head()\n"
   ]
  },
  {
   "cell_type": "code",
   "execution_count": 4,
   "metadata": {},
   "outputs": [
    {
     "data": {
      "text/html": [
       "<div>\n",
       "<style scoped>\n",
       "    .dataframe tbody tr th:only-of-type {\n",
       "        vertical-align: middle;\n",
       "    }\n",
       "\n",
       "    .dataframe tbody tr th {\n",
       "        vertical-align: top;\n",
       "    }\n",
       "\n",
       "    .dataframe thead th {\n",
       "        text-align: right;\n",
       "    }\n",
       "</style>\n",
       "<table border=\"1\" class=\"dataframe\">\n",
       "  <thead>\n",
       "    <tr style=\"text-align: right;\">\n",
       "      <th></th>\n",
       "      <th>Unnamed: 0.1</th>\n",
       "      <th>Unnamed: 0</th>\n",
       "      <th>id</th>\n",
       "      <th>neo_reference_id</th>\n",
       "      <th>absolute_magnitude_h</th>\n",
       "      <th>kilometers_estimated_diameter_min</th>\n",
       "      <th>kilometers_estimated_diameter_max</th>\n",
       "      <th>perihelion_distance</th>\n",
       "      <th>aphelion_distance</th>\n",
       "    </tr>\n",
       "  </thead>\n",
       "  <tbody>\n",
       "    <tr>\n",
       "      <th>count</th>\n",
       "      <td>24000.000000</td>\n",
       "      <td>24000.000000</td>\n",
       "      <td>2.400000e+04</td>\n",
       "      <td>2.400000e+04</td>\n",
       "      <td>23992.000000</td>\n",
       "      <td>23992.000000</td>\n",
       "      <td>23992.000000</td>\n",
       "      <td>24000.000000</td>\n",
       "      <td>24000.000000</td>\n",
       "    </tr>\n",
       "    <tr>\n",
       "      <th>mean</th>\n",
       "      <td>11999.500000</td>\n",
       "      <td>11999.500000</td>\n",
       "      <td>7.275111e+06</td>\n",
       "      <td>7.275111e+06</td>\n",
       "      <td>22.942274</td>\n",
       "      <td>0.167777</td>\n",
       "      <td>0.375160</td>\n",
       "      <td>0.915225</td>\n",
       "      <td>2.653104</td>\n",
       "    </tr>\n",
       "    <tr>\n",
       "      <th>std</th>\n",
       "      <td>6928.347566</td>\n",
       "      <td>6928.347566</td>\n",
       "      <td>1.333987e+07</td>\n",
       "      <td>1.333987e+07</td>\n",
       "      <td>2.952871</td>\n",
       "      <td>0.293000</td>\n",
       "      <td>0.655169</td>\n",
       "      <td>0.232201</td>\n",
       "      <td>4.468233</td>\n",
       "    </tr>\n",
       "    <tr>\n",
       "      <th>min</th>\n",
       "      <td>0.000000</td>\n",
       "      <td>0.000000</td>\n",
       "      <td>2.001981e+06</td>\n",
       "      <td>2.001981e+06</td>\n",
       "      <td>12.580000</td>\n",
       "      <td>0.000609</td>\n",
       "      <td>0.001362</td>\n",
       "      <td>0.070431</td>\n",
       "      <td>0.653754</td>\n",
       "    </tr>\n",
       "    <tr>\n",
       "      <th>25%</th>\n",
       "      <td>5999.750000</td>\n",
       "      <td>5999.750000</td>\n",
       "      <td>3.409962e+06</td>\n",
       "      <td>3.409962e+06</td>\n",
       "      <td>20.650000</td>\n",
       "      <td>0.024241</td>\n",
       "      <td>0.054205</td>\n",
       "      <td>0.785150</td>\n",
       "      <td>1.706281</td>\n",
       "    </tr>\n",
       "    <tr>\n",
       "      <th>50%</th>\n",
       "      <td>11999.500000</td>\n",
       "      <td>11999.500000</td>\n",
       "      <td>3.703790e+06</td>\n",
       "      <td>3.703790e+06</td>\n",
       "      <td>23.200000</td>\n",
       "      <td>0.060891</td>\n",
       "      <td>0.136157</td>\n",
       "      <td>0.965325</td>\n",
       "      <td>2.480109</td>\n",
       "    </tr>\n",
       "    <tr>\n",
       "      <th>75%</th>\n",
       "      <td>17999.250000</td>\n",
       "      <td>17999.250000</td>\n",
       "      <td>3.803897e+06</td>\n",
       "      <td>3.803897e+06</td>\n",
       "      <td>25.200000</td>\n",
       "      <td>0.197040</td>\n",
       "      <td>0.440595</td>\n",
       "      <td>1.068984</td>\n",
       "      <td>3.397965</td>\n",
       "    </tr>\n",
       "    <tr>\n",
       "      <th>max</th>\n",
       "      <td>23999.000000</td>\n",
       "      <td>23999.000000</td>\n",
       "      <td>5.408749e+07</td>\n",
       "      <td>5.408749e+07</td>\n",
       "      <td>33.200000</td>\n",
       "      <td>8.101305</td>\n",
       "      <td>18.115068</td>\n",
       "      <td>1.299988</td>\n",
       "      <td>631.895456</td>\n",
       "    </tr>\n",
       "  </tbody>\n",
       "</table>\n",
       "</div>"
      ],
      "text/plain": [
       "       Unnamed: 0.1    Unnamed: 0            id  neo_reference_id  \\\n",
       "count  24000.000000  24000.000000  2.400000e+04      2.400000e+04   \n",
       "mean   11999.500000  11999.500000  7.275111e+06      7.275111e+06   \n",
       "std     6928.347566   6928.347566  1.333987e+07      1.333987e+07   \n",
       "min        0.000000      0.000000  2.001981e+06      2.001981e+06   \n",
       "25%     5999.750000   5999.750000  3.409962e+06      3.409962e+06   \n",
       "50%    11999.500000  11999.500000  3.703790e+06      3.703790e+06   \n",
       "75%    17999.250000  17999.250000  3.803897e+06      3.803897e+06   \n",
       "max    23999.000000  23999.000000  5.408749e+07      5.408749e+07   \n",
       "\n",
       "       absolute_magnitude_h  kilometers_estimated_diameter_min  \\\n",
       "count          23992.000000                       23992.000000   \n",
       "mean              22.942274                           0.167777   \n",
       "std                2.952871                           0.293000   \n",
       "min               12.580000                           0.000609   \n",
       "25%               20.650000                           0.024241   \n",
       "50%               23.200000                           0.060891   \n",
       "75%               25.200000                           0.197040   \n",
       "max               33.200000                           8.101305   \n",
       "\n",
       "       kilometers_estimated_diameter_max  perihelion_distance  \\\n",
       "count                       23992.000000         24000.000000   \n",
       "mean                            0.375160             0.915225   \n",
       "std                             0.655169             0.232201   \n",
       "min                             0.001362             0.070431   \n",
       "25%                             0.054205             0.785150   \n",
       "50%                             0.136157             0.965325   \n",
       "75%                             0.440595             1.068984   \n",
       "max                            18.115068             1.299988   \n",
       "\n",
       "       aphelion_distance  \n",
       "count       24000.000000  \n",
       "mean            2.653104  \n",
       "std             4.468233  \n",
       "min             0.653754  \n",
       "25%             1.706281  \n",
       "50%             2.480109  \n",
       "75%             3.397965  \n",
       "max           631.895456  "
      ]
     },
     "execution_count": 4,
     "metadata": {},
     "output_type": "execute_result"
    }
   ],
   "source": [
    "df.describe()"
   ]
  },
  {
   "cell_type": "markdown",
   "metadata": {},
   "source": [
    "Clean the data using z score."
   ]
  },
  {
   "cell_type": "code",
   "execution_count": 5,
   "metadata": {},
   "outputs": [
    {
     "data": {
      "text/plain": [
       "<matplotlib.collections.PathCollection at 0x1d706f0d890>"
      ]
     },
     "execution_count": 5,
     "metadata": {},
     "output_type": "execute_result"
    },
    {
     "data": {
      "image/png": "[encoded data removed]",
      "text/plain": [
       "<Figure size 640x480 with 1 Axes>"
      ]
     },
     "metadata": {},
     "output_type": "display_data"
    }
   ],
   "source": [
    "plt.scatter(df[\"absolute_magnitude_h\"],df[\"perihelion_distance\"])\n"
   ]
  },
  {
   "cell_type": "code",
   "execution_count": 6,
   "metadata": {},
   "outputs": [
    {
     "data": {
      "text/plain": [
       "(array([2.3997e+04, 1.0000e+00, 0.0000e+00, 1.0000e+00, 0.0000e+00,\n",
       "        0.0000e+00, 0.0000e+00, 0.0000e+00, 0.0000e+00, 1.0000e+00]),\n",
       " array([  0.65375429,  63.77792449, 126.9020947 , 190.0262649 ,\n",
       "        253.15043511, 316.27460531, 379.39877552, 442.52294572,\n",
       "        505.64711593, 568.77128613, 631.89545634]),\n",
       " <BarContainer object of 10 artists>)"
      ]
     },
     "execution_count": 6,
     "metadata": {},
     "output_type": "execute_result"
    },
    {
     "data": {
      "image/png": "[encoded data removed]",
      "text/plain": [
       "<Figure size 640x480 with 1 Axes>"
      ]
     },
     "metadata": {},
     "output_type": "display_data"
    }
   ],
   "source": [
    "plt.hist(df[\"aphelion_distance\"])"
   ]
  },
  {
   "cell_type": "markdown",
   "metadata": {},
   "source": [
    "Calculate a new paramater."
   ]
  },
  {
   "cell_type": "code",
   "execution_count": 7,
   "metadata": {},
   "outputs": [],
   "source": [
    "df[\"Median Size\"]=(df[\"kilometers_estimated_diameter_max\"]-df[\"kilometers_estimated_diameter_min\"])/2"
   ]
  },
  {
   "cell_type": "code",
   "execution_count": 8,
   "metadata": {},
   "outputs": [
    {
     "data": {
      "text/plain": [
       "(array([2.3258e+04, 5.6400e+02, 1.1900e+02, 3.4000e+01, 9.0000e+00,\n",
       "        5.0000e+00, 1.0000e+00, 1.0000e+00, 0.0000e+00, 1.0000e+00]),\n",
       " array([3.76328700e-04, 5.01026873e-01, 1.00167742e+00, 1.50232796e+00,\n",
       "        2.00297851e+00, 2.50362905e+00, 3.00427959e+00, 3.50493014e+00,\n",
       "        4.00558068e+00, 4.50623123e+00, 5.00688177e+00]),\n",
       " <BarContainer object of 10 artists>)"
      ]
     },
     "execution_count": 8,
     "metadata": {},
     "output_type": "execute_result"
    },
    {
     "data": {
      "image/png": "[encoded data removed]",
      "text/plain": [
       "<Figure size 640x480 with 1 Axes>"
      ]
     },
     "metadata": {},
     "output_type": "display_data"
    }
   ],
   "source": [
    "plt.hist(df[\"Median Size\"])"
   ]
  },
  {
   "cell_type": "code",
   "execution_count": 9,
   "metadata": {},
   "outputs": [
    {
     "data": {
      "text/plain": [
       "(array([  18.,  320., 1666., 4505., 4723., 6070., 4935., 1515.,  226.,\n",
       "          14.]),\n",
       " array([12.58 , 14.642, 16.704, 18.766, 20.828, 22.89 , 24.952, 27.014,\n",
       "        29.076, 31.138, 33.2  ]),\n",
       " <BarContainer object of 10 artists>)"
      ]
     },
     "execution_count": 9,
     "metadata": {},
     "output_type": "execute_result"
    },
    {
     "data": {
      "image/png": "[encoded data removed]",
      "text/plain": [
       "<Figure size 640x480 with 1 Axes>"
      ]
     },
     "metadata": {},
     "output_type": "display_data"
    }
   ],
   "source": [
    "\n",
    "plt.hist(df[\"absolute_magnitude_h\"])\n",
    "\n"
   ]
  },
  {
   "cell_type": "code",
   "execution_count": 10,
   "metadata": {},
   "outputs": [
    {
     "data": {
      "text/plain": [
       "(array([  84.,  299.,  657., 1198., 1762., 2593., 3913., 6735., 4073.,\n",
       "        2686.]),\n",
       " array([0.07043122, 0.19338688, 0.31634254, 0.4392982 , 0.56225386,\n",
       "        0.68520952, 0.80816518, 0.93112084, 1.0540765 , 1.17703216,\n",
       "        1.29998782]),\n",
       " <BarContainer object of 10 artists>)"
      ]
     },
     "execution_count": 10,
     "metadata": {},
     "output_type": "execute_result"
    },
    {
     "data": {
      "image/png": "[encoded data removed]",
      "text/plain": [
       "<Figure size 640x480 with 1 Axes>"
      ]
     },
     "metadata": {},
     "output_type": "display_data"
    }
   ],
   "source": [
    "plt.hist(df[\"perihelion_distance\"])"
   ]
  },
  {
   "cell_type": "code",
   "execution_count": 11,
   "metadata": {},
   "outputs": [
    {
     "data": {
      "text/plain": [
       "<matplotlib.collections.PathCollection at 0x1d706dc0cd0>"
      ]
     },
     "execution_count": 11,
     "metadata": {},
     "output_type": "execute_result"
    },
    {
     "data": {
      "image/png": "[encoded data removed]",
      "text/plain": [
       "<Figure size 640x480 with 1 Axes>"
      ]
     },
     "metadata": {},
     "output_type": "display_data"
    }
   ],
   "source": [
    "plt.scatter(df[\"absolute_magnitude_h\"], df[\"aphelion_distance\"])"
   ]
  },
  {
   "cell_type": "code",
   "execution_count": 12,
   "metadata": {},
   "outputs": [
    {
     "data": {
      "text/plain": [
       "<matplotlib.colorbar.Colorbar at 0x1d7074b5950>"
      ]
     },
     "execution_count": 12,
     "metadata": {},
     "output_type": "execute_result"
    },
    {
     "data": {
      "image/png": "[encoded data removed]",
      "text/plain": [
       "<Figure size 640x480 with 2 Axes>"
      ]
     },
     "metadata": {},
     "output_type": "display_data"
    }
   ],
   "source": [
    "plt.scatter(df[\"perihelion_distance\"], df[\"aphelion_distance\"], c=df[\"absolute_magnitude_h\"])\n",
    "plt.colorbar()"
   ]
  },
  {
   "cell_type": "markdown",
   "metadata": {},
   "source": [
    "Calculate a new variable time between first sighting and last sighting. Do some data cleaning."
   ]
  },
  {
   "cell_type": "code",
   "execution_count": 13,
   "metadata": {},
   "outputs": [],
   "source": [
    "df['start_date'] = pd.to_datetime(\n",
    "    df['first_observation_date'], format='%Y-%m-%d', errors='coerce')\n",
    "df['end_date'] = pd.to_datetime(\n",
    "    df['last_observation_date'], format='%Y-%m-%d', errors='coerce')\n",
    "df = df.dropna(subset=['start_date', 'end_date'])\n",
    "df['start_date'] = pd.to_datetime(df['first_observation_date'])\n",
    "df['end_date'] = pd.to_datetime(df['last_observation_date'])\n",
    "\n",
    "df['duration'] = df['end_date'] - df['start_date']\n",
    "df = df.dropna()"
   ]
  },
  {
   "cell_type": "markdown",
   "metadata": {},
   "source": [
    "Predict whether an astroid is a threat based off of median size, absolute magnitude, apheliuon distance and perihelion distance. \n"
   ]
  },
  {
   "cell_type": "code",
   "execution_count": 14,
   "metadata": {},
   "outputs": [
    {
     "data": {
      "text/html": [
       "<div>\n",
       "<style scoped>\n",
       "    .dataframe tbody tr th:only-of-type {\n",
       "        vertical-align: middle;\n",
       "    }\n",
       "\n",
       "    .dataframe tbody tr th {\n",
       "        vertical-align: top;\n",
       "    }\n",
       "\n",
       "    .dataframe thead th {\n",
       "        text-align: right;\n",
       "    }\n",
       "</style>\n",
       "<table border=\"1\" class=\"dataframe\">\n",
       "  <thead>\n",
       "    <tr style=\"text-align: right;\">\n",
       "      <th></th>\n",
       "      <th>Unnamed: 0.1</th>\n",
       "      <th>Unnamed: 0</th>\n",
       "      <th>id</th>\n",
       "      <th>neo_reference_id</th>\n",
       "      <th>name</th>\n",
       "      <th>name_limited</th>\n",
       "      <th>designation</th>\n",
       "      <th>absolute_magnitude_h</th>\n",
       "      <th>is_potentially_hazardous_asteroid</th>\n",
       "      <th>is_sentry_object</th>\n",
       "      <th>...</th>\n",
       "      <th>orbit_class_type</th>\n",
       "      <th>perihelion_distance</th>\n",
       "      <th>aphelion_distance</th>\n",
       "      <th>first_observation_date</th>\n",
       "      <th>last_observation_date</th>\n",
       "      <th>orbit_class_description</th>\n",
       "      <th>Median Size</th>\n",
       "      <th>start_date</th>\n",
       "      <th>end_date</th>\n",
       "      <th>duration</th>\n",
       "    </tr>\n",
       "  </thead>\n",
       "  <tbody>\n",
       "    <tr>\n",
       "      <th>0</th>\n",
       "      <td>0</td>\n",
       "      <td>0</td>\n",
       "      <td>2001981</td>\n",
       "      <td>2001981</td>\n",
       "      <td>1981 Midas (1973 EA)</td>\n",
       "      <td>Midas</td>\n",
       "      <td>1981</td>\n",
       "      <td>15.22</td>\n",
       "      <td>True</td>\n",
       "      <td>False</td>\n",
       "      <td>...</td>\n",
       "      <td>APO</td>\n",
       "      <td>0.621512</td>\n",
       "      <td>2.931360</td>\n",
       "      <td>1973-03-06</td>\n",
       "      <td>2021-10-20</td>\n",
       "      <td>Near-Earth asteroid orbits which cross the Ear...</td>\n",
       "      <td>1.484456</td>\n",
       "      <td>1973-03-06</td>\n",
       "      <td>2021-10-20</td>\n",
       "      <td>17760 days</td>\n",
       "    </tr>\n",
       "    <tr>\n",
       "      <th>1</th>\n",
       "      <td>1</td>\n",
       "      <td>1</td>\n",
       "      <td>2002059</td>\n",
       "      <td>2002059</td>\n",
       "      <td>2059 Baboquivari (1963 UA)</td>\n",
       "      <td>Baboquivari</td>\n",
       "      <td>2059</td>\n",
       "      <td>15.97</td>\n",
       "      <td>False</td>\n",
       "      <td>False</td>\n",
       "      <td>...</td>\n",
       "      <td>AMO</td>\n",
       "      <td>1.238537</td>\n",
       "      <td>4.047945</td>\n",
       "      <td>1963-10-16</td>\n",
       "      <td>2021-04-15</td>\n",
       "      <td>Near-Earth asteroid orbits similar to that of ...</td>\n",
       "      <td>1.050914</td>\n",
       "      <td>1963-10-16</td>\n",
       "      <td>2021-04-15</td>\n",
       "      <td>21001 days</td>\n",
       "    </tr>\n",
       "    <tr>\n",
       "      <th>2</th>\n",
       "      <td>2</td>\n",
       "      <td>2</td>\n",
       "      <td>2002061</td>\n",
       "      <td>2002061</td>\n",
       "      <td>2061 Anza (1960 UA)</td>\n",
       "      <td>Anza</td>\n",
       "      <td>2061</td>\n",
       "      <td>16.36</td>\n",
       "      <td>False</td>\n",
       "      <td>False</td>\n",
       "      <td>...</td>\n",
       "      <td>AMO</td>\n",
       "      <td>1.050403</td>\n",
       "      <td>3.478155</td>\n",
       "      <td>1960-10-22</td>\n",
       "      <td>2021-06-12</td>\n",
       "      <td>Near-Earth asteroid orbits similar to that of ...</td>\n",
       "      <td>0.878147</td>\n",
       "      <td>1960-10-22</td>\n",
       "      <td>2021-06-12</td>\n",
       "      <td>22148 days</td>\n",
       "    </tr>\n",
       "    <tr>\n",
       "      <th>3</th>\n",
       "      <td>3</td>\n",
       "      <td>3</td>\n",
       "      <td>2002062</td>\n",
       "      <td>2002062</td>\n",
       "      <td>2062 Aten (1976 AA)</td>\n",
       "      <td>Aten</td>\n",
       "      <td>2062</td>\n",
       "      <td>17.10</td>\n",
       "      <td>False</td>\n",
       "      <td>False</td>\n",
       "      <td>...</td>\n",
       "      <td>ATE</td>\n",
       "      <td>0.790185</td>\n",
       "      <td>1.143633</td>\n",
       "      <td>1955-12-17</td>\n",
       "      <td>2019-11-10</td>\n",
       "      <td>Near-Earth asteroid orbits similar to that of ...</td>\n",
       "      <td>0.624550</td>\n",
       "      <td>1955-12-17</td>\n",
       "      <td>2019-11-10</td>\n",
       "      <td>23339 days</td>\n",
       "    </tr>\n",
       "    <tr>\n",
       "      <th>4</th>\n",
       "      <td>4</td>\n",
       "      <td>4</td>\n",
       "      <td>2002063</td>\n",
       "      <td>2002063</td>\n",
       "      <td>2063 Bacchus (1977 HB)</td>\n",
       "      <td>Bacchus</td>\n",
       "      <td>2063</td>\n",
       "      <td>17.28</td>\n",
       "      <td>False</td>\n",
       "      <td>False</td>\n",
       "      <td>...</td>\n",
       "      <td>APO</td>\n",
       "      <td>0.701397</td>\n",
       "      <td>1.454804</td>\n",
       "      <td>1977-04-24</td>\n",
       "      <td>2021-12-02</td>\n",
       "      <td>Near-Earth asteroid orbits which cross the Ear...</td>\n",
       "      <td>0.574867</td>\n",
       "      <td>1977-04-24</td>\n",
       "      <td>2021-12-02</td>\n",
       "      <td>16293 days</td>\n",
       "    </tr>\n",
       "  </tbody>\n",
       "</table>\n",
       "<p>5 rows × 23 columns</p>\n",
       "</div>"
      ],
      "text/plain": [
       "   Unnamed: 0.1  Unnamed: 0       id  neo_reference_id  \\\n",
       "0             0           0  2001981           2001981   \n",
       "1             1           1  2002059           2002059   \n",
       "2             2           2  2002061           2002061   \n",
       "3             3           3  2002062           2002062   \n",
       "4             4           4  2002063           2002063   \n",
       "\n",
       "                         name name_limited designation  absolute_magnitude_h  \\\n",
       "0        1981 Midas (1973 EA)        Midas        1981                 15.22   \n",
       "1  2059 Baboquivari (1963 UA)  Baboquivari        2059                 15.97   \n",
       "2         2061 Anza (1960 UA)         Anza        2061                 16.36   \n",
       "3         2062 Aten (1976 AA)         Aten        2062                 17.10   \n",
       "4      2063 Bacchus (1977 HB)      Bacchus        2063                 17.28   \n",
       "\n",
       "   is_potentially_hazardous_asteroid  is_sentry_object  ...  orbit_class_type  \\\n",
       "0                               True             False  ...               APO   \n",
       "1                              False             False  ...               AMO   \n",
       "2                              False             False  ...               AMO   \n",
       "3                              False             False  ...               ATE   \n",
       "4                              False             False  ...               APO   \n",
       "\n",
       "   perihelion_distance aphelion_distance first_observation_date  \\\n",
       "0             0.621512          2.931360             1973-03-06   \n",
       "1             1.238537          4.047945             1963-10-16   \n",
       "2             1.050403          3.478155             1960-10-22   \n",
       "3             0.790185          1.143633             1955-12-17   \n",
       "4             0.701397          1.454804             1977-04-24   \n",
       "\n",
       "   last_observation_date                            orbit_class_description  \\\n",
       "0             2021-10-20  Near-Earth asteroid orbits which cross the Ear...   \n",
       "1             2021-04-15  Near-Earth asteroid orbits similar to that of ...   \n",
       "2             2021-06-12  Near-Earth asteroid orbits similar to that of ...   \n",
       "3             2019-11-10  Near-Earth asteroid orbits similar to that of ...   \n",
       "4             2021-12-02  Near-Earth asteroid orbits which cross the Ear...   \n",
       "\n",
       "  Median Size start_date   end_date   duration  \n",
       "0    1.484456 1973-03-06 2021-10-20 17760 days  \n",
       "1    1.050914 1963-10-16 2021-04-15 21001 days  \n",
       "2    0.878147 1960-10-22 2021-06-12 22148 days  \n",
       "3    0.624550 1955-12-17 2019-11-10 23339 days  \n",
       "4    0.574867 1977-04-24 2021-12-02 16293 days  \n",
       "\n",
       "[5 rows x 23 columns]"
      ]
     },
     "execution_count": 14,
     "metadata": {},
     "output_type": "execute_result"
    }
   ],
   "source": [
    "df.head()"
   ]
  },
  {
   "cell_type": "markdown",
   "metadata": {},
   "source": [
    "Here we use conditional logic to see whether the asteroid was discovered before or after the ATLAS near earth asteroid watch project launched. "
   ]
  },
  {
   "cell_type": "code",
   "execution_count": 15,
   "metadata": {},
   "outputs": [],
   "source": [
    "cutoff_date = pd.Timestamp('2015-03-01')\n",
    "df['After Atlas'] = df['start_date'] > cutoff_date"
   ]
  },
  {
   "cell_type": "code",
   "execution_count": 16,
   "metadata": {},
   "outputs": [
    {
     "name": "stdout",
     "output_type": "stream",
     "text": [
      "Confusion Matrix:\n",
      "[[30  1]\n",
      " [ 8  5]]\n",
      "\n",
      "Classification Report:\n",
      "              precision    recall  f1-score   support\n",
      "\n",
      "       False       0.79      0.97      0.87        31\n",
      "        True       0.83      0.38      0.53        13\n",
      "\n",
      "    accuracy                           0.80        44\n",
      "   macro avg       0.81      0.68      0.70        44\n",
      "weighted avg       0.80      0.80      0.77        44\n",
      "\n"
     ]
    }
   ],
   "source": [
    "# Features and target variable\n",
    "X = df[['absolute_magnitude_h', 'Median Size',\n",
    "        'aphelion_distance', 'perihelion_distance']]\n",
    "y = df['is_potentially_hazardous_asteroid']\n",
    "\n",
    "# Split the data into training and testing sets\n",
    "X_train, X_test, y_train, y_test = train_test_split(\n",
    "    X, y, test_size=0.3, random_state=42)\n",
    "# Feature scaling\n",
    "scaler = StandardScaler()\n",
    "X_train_scaled = scaler.fit_transform(X_train)\n",
    "X_test_scaled = scaler.transform(X_test)\n",
    "\n",
    "# Initialize the model\n",
    "model = LogisticRegression()\n",
    "\n",
    "# Train the model\n",
    "model.fit(X_train_scaled, y_train)\n",
    "\n",
    "# Make predictions\n",
    "y_pred = model.predict(X_test_scaled)\n",
    "\n",
    "# Evaluate the model\n",
    "print(\"Confusion Matrix:\")\n",
    "print(confusion_matrix(y_test, y_pred))\n",
    "\n",
    "print(\"\\nClassification Report:\")\n",
    "print(classification_report(y_test, y_pred))"
   ]
  },
  {
   "cell_type": "markdown",
   "metadata": {},
   "source": [
    "Use a for loop to make predictions"
   ]
  },
  {
   "cell_type": "code",
   "execution_count": 17,
   "metadata": {},
   "outputs": [],
   "source": [
    "# Make predictions using a for loop\n",
    "predictions = []\n",
    "for i in range(len(X_test_scaled)):\n",
    "    # Reshape for single sample prediction\n",
    "    features = X_test_scaled[i].reshape(1, -1)\n",
    "    prediction = model.predict(features)[0]  # Predict the class\n",
    "    predictions.append(prediction)\n",
    "\n",
    "# Display results\n",
    "result_df = pd.DataFrame({\n",
    "    'features': list(X_test_scaled),\n",
    "    'actual': y_test.values,\n",
    "    'predicted': predictions\n",
    "})\n"
   ]
  },
  {
   "cell_type": "markdown",
   "metadata": {},
   "source": [
    "Now we will export the resulting data frame to a file format which is not in python's typical use. We will write to SQL and we can also write to json, csv, xlsx"
   ]
  },
  {
   "cell_type": "code",
   "execution_count": 18,
   "metadata": {},
   "outputs": [
    {
     "name": "stderr",
     "output_type": "stream",
     "text": [
      "C:\\Users\\Drewr\\AppData\\Local\\Temp\\ipykernel_49352\\1718416367.py:3: UserWarning: the 'timedelta' type is not supported, and will be written as integer values (ns frequency) to the database.\n",
      "  df.to_sql('Cleaned Data', conn, if_exists='replace', index=False)\n"
     ]
    }
   ],
   "source": [
    "\n",
    "\n",
    "conn = sqlite3.connect('data.db')\n",
    "# Write to SQLite database\n",
    "df.to_sql('Cleaned Data', conn, if_exists='replace', index=False)\n",
    "conn.close()\n",
    "df.to_excel('output.xlsx', index=False)\n",
    "df.to_json('output.json')\n",
    "df.to_csv('output.csv', index=False)"
   ]
  },
  {
   "cell_type": "markdown",
   "metadata": {},
   "source": [
    "Save the model for future use."
   ]
  },
  {
   "cell_type": "code",
   "execution_count": 19,
   "metadata": {},
   "outputs": [],
   "source": [
    "\n",
    "with open('logistic_regression_model.pkl', 'wb') as file:\n",
    "    pickle.dump(model, file)\n",
    "\n",
    "with open('scaler.pkl', 'wb') as file:\n",
    "    pickle.dump(scaler, file)"
   ]
  },
  {
   "cell_type": "markdown",
   "metadata": {},
   "source": [
    "Now we access the api of Nasa read in the data and convert to xlsx."
   ]
  },
  {
   "cell_type": "code",
   "execution_count": 20,
   "metadata": {},
   "outputs": [],
   "source": [
    "\"\"\"\n",
    "# Define the API endpoint for NASA's NEO Web Service\n",
    "api_url = 'https://api.nasa.gov/neo/rest/v1/neo/browse'\n",
    "# Replace with your own API key if you have one\n",
    "api_key = 'PZ2PKsFAKLHvbb1Awdqsgbprd20U1Yt3UQrwUJK6'\n",
    "\n",
    "# Function to fetch data\n",
    "\n",
    "\n",
    "def fetch_neo_data(url, key, start=0, limit=10):\n",
    "    response = requests.get(\n",
    "        url, params={'api_key': key, 'start': start, 'limit': limit})\n",
    "    data = response.json()\n",
    "    return data\n",
    "\n",
    "\n",
    "# Fetch data from NASA's NEO Web Service\n",
    "data = fetch_neo_data(api_url, api_key)\n",
    "\n",
    "# Extract the relevant information\n",
    "asteroids = []\n",
    "for asteroid in data['near_earth_objects']:\n",
    "    asteroid_info = {\n",
    "        'name': asteroid['name'],\n",
    "        'absolute_magnitude': asteroid['absolute_magnitude_h'],\n",
    "        'aphelion_distance': asteroid['orbital_data']['aphelion_distance'],\n",
    "        'perihelion_distance': asteroid['orbital_data']['perihelion_distance'],\n",
    "        'median_size': (asteroid['estimated_diameter']['meters']['estimated_diameter_max'] + asteroid['estimated_diameter']['meters']['estimated_diameter_min']) / 2\n",
    "    }\n",
    "    asteroids.append(asteroid_info)\n",
    "\n",
    "# Convert to DataFrame\n",
    "df_neo = pd.DataFrame(asteroids)\n",
    "\n",
    "df_neo.to_excel(\"New Data.xlsx\")\n",
    "\"\"\""
   ]
  },
  {
   "cell_type": "code",
   "execution_count": null,
   "metadata": {},
   "outputs": [],
   "source": []
  }
 ],
 "metadata": {
  "kernelspec": {
   "display_name": "Python 3",
   "language": "python",
   "name": "python3"
  },
  "language_info": {
   "codemirror_mode": {
    "name": "ipython",
    "version": 3
   },
   "file_extension": ".py",
   "mimetype": "text/x-python",
   "name": "python",
   "nbconvert_exporter": "python",
   "pygments_lexer": "ipython3",
   "version": "3.11.9"
  }
 },
 "nbformat": 4,
 "nbformat_minor": 2
}
