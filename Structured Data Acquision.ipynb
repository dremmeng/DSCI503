{
 "cells": [
  {
   "cell_type": "code",
   "execution_count": 2,
   "metadata": {},
   "outputs": [
    {
     "name": "stdout",
     "output_type": "stream",
     "text": [
      "<class 'pandas.core.frame.DataFrame'>\n",
      "RangeIndex: 551 entries, 0 to 550\n",
      "Data columns (total 37 columns):\n",
      " #   Column                Non-Null Count  Dtype  \n",
      "---  ------                --------------  -----  \n",
      " 0   Unnamed: 0.1          551 non-null    int64  \n",
      " 1   Unnamed: 0            551 non-null    int64  \n",
      " 2   food                  551 non-null    object \n",
      " 3   Caloric Value         551 non-null    int64  \n",
      " 4   Fat                   551 non-null    float64\n",
      " 5   Saturated Fats        551 non-null    float64\n",
      " 6   Monounsaturated Fats  551 non-null    float64\n",
      " 7   Polyunsaturated Fats  551 non-null    float64\n",
      " 8   Carbohydrates         551 non-null    float64\n",
      " 9   Sugars                551 non-null    float64\n",
      " 10  Protein               551 non-null    float64\n",
      " 11  Dietary Fiber         551 non-null    float64\n",
      " 12  Cholesterol           551 non-null    float64\n",
      " 13  Sodium                551 non-null    float64\n",
      " 14  Water                 551 non-null    float64\n",
      " 15  Vitamin A             551 non-null    float64\n",
      " 16  Vitamin B1            551 non-null    float64\n",
      " 17  Vitamin B11           551 non-null    float64\n",
      " 18  Vitamin B12           551 non-null    float64\n",
      " 19  Vitamin B2            551 non-null    float64\n",
      " 20  Vitamin B3            551 non-null    float64\n",
      " 21  Vitamin B5            551 non-null    float64\n",
      " 22  Vitamin B6            551 non-null    float64\n",
      " 23  Vitamin C             551 non-null    float64\n",
      " 24  Vitamin D             551 non-null    float64\n",
      " 25  Vitamin E             551 non-null    float64\n",
      " 26  Vitamin K             551 non-null    float64\n",
      " 27  Calcium               551 non-null    float64\n",
      " 28  Copper                551 non-null    float64\n",
      " 29  Iron                  551 non-null    float64\n",
      " 30  Magnesium             551 non-null    float64\n",
      " 31  Manganese             551 non-null    float64\n",
      " 32  Phosphorus            551 non-null    float64\n",
      " 33  Potassium             551 non-null    float64\n",
      " 34  Selenium              551 non-null    float64\n",
      " 35  Zinc                  551 non-null    float64\n",
      " 36  Nutrition Density     551 non-null    float64\n",
      "dtypes: float64(33), int64(3), object(1)\n",
      "memory usage: 159.4+ KB\n"
     ]
    }
   ],
   "source": [
    "import pandas as pd\n",
    "df = pd.read_csv(\"FOOD-DATA-GROUP1.csv\")\n",
    "df.head()\n",
    "df.describe()\n",
    "df.info()"
   ]
  }
 ],
 "metadata": {
  "kernelspec": {
   "display_name": "Python 3",
   "language": "python",
   "name": "python3"
  },
  "language_info": {
   "codemirror_mode": {
    "name": "ipython",
    "version": 3
   },
   "file_extension": ".py",
   "mimetype": "text/x-python",
   "name": "python",
   "nbconvert_exporter": "python",
   "pygments_lexer": "ipython3",
   "version": "3.11.9"
  }
 },
 "nbformat": 4,
 "nbformat_minor": 2
}
